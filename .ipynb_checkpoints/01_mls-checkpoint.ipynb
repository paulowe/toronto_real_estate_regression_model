{
 "cells": [
  {
   "cell_type": "markdown",
   "id": "dc8f48ce-f880-49ec-acfc-c21bf3b3430a",
   "metadata": {},
   "source": [
    "## Scrape Realtor.ca for listings"
   ]
  },
  {
   "cell_type": "code",
   "execution_count": 16,
   "id": "a563daf8-eacd-459a-afc4-8b5de241a283",
   "metadata": {
    "tags": []
   },
   "outputs": [],
   "source": [
    "import geocoder\n",
    "import requests\n",
    "import unicodecsv as csv\n",
    "import time\n",
    "\n",
    "container = {}\n",
    "g = geocoder.google(\"New Brunswick, Canada\")\n",
    "url = \"https://www.realtor.ca/api/Listing.svc/PropertySearch_Post\""
   ]
  },
  {
   "cell_type": "code",
   "execution_count": 18,
   "id": "9f70b7e6-b5d7-485b-b30c-4560b2e93ed2",
   "metadata": {},
   "outputs": [
    {
     "data": {
      "text/plain": [
       "<[REQUEST_DENIED] Google - Geocode [empty]>"
      ]
     },
     "execution_count": 18,
     "metadata": {},
     "output_type": "execute_result"
    }
   ],
   "source": [
    "g"
   ]
  },
  {
   "cell_type": "code",
   "execution_count": 17,
   "id": "dade4f1e-e208-4a18-bd18-b584ad4018b4",
   "metadata": {},
   "outputs": [],
   "source": [
    "PropertySearchType = {\n",
    "    1: \"Residential\",\n",
    "    2: \"Recreational\",\n",
    "    3: \"Condo/Strata\",\n",
    "    8: \"Multi Family\",\n",
    "    4: \"Agriculture\",\n",
    "    5: \"Parking\",\n",
    "    6: \"Vacant Land\"\n",
    "}\n",
    "LandSizeRange = [\"0-10\", \"10-50\", \"50-100\", \"100-320\", \"320-640\", \"640-1000\", \"1000-0\"]\n",
    "interval = 250000\n",
    "intervals = 2\n",
    "max_results = 350"
   ]
  },
  {
   "cell_type": "code",
   "execution_count": null,
   "id": "130f7f5c-ffdc-4c79-9287-621d3c024cde",
   "metadata": {},
   "outputs": [],
   "source": [
    "for PropertySearch in PropertySearchType.keys():\n",
    "    Prices = list((i * interval, i * interval + interval) for i in range(intervals))\n",
    "    for PriceMin, PriceMax in Prices:\n",
    "        print('Looking for {} ({}$-{}$)...'.format(\n",
    "            PropertySearchType[PropertySearch],\n",
    "            PriceMin,\n",
    "            PriceMax\n",
    "        ))\n",
    "        payload = {\n",
    "            \"CultureId\": \"1\",\n",
    "            \"ApplicationId\": \"1\",\n",
    "            \"RecordsPerPage\": max_results,\n",
    "            \"MaximumResults\": max_results,\n",
    "            \"PropertySearchTypeId\": PropertySearch,\n",
    "            \"PriceMin\": PriceMin,\n",
    "            \"PriceMax\": PriceMax,\n",
    "            \"LandSizeRange\": \"0-0\",\n",
    "            \"TransactionTypeId\": \"2\",\n",
    "            \"StoreyRange\": \"0-0\",\n",
    "            \"BedRange\": \"0-0\",\n",
    "            \"BathRange\": \"0-0\",\n",
    "            \"LongitudeMin\": g.west,\n",
    "            \"LongitudeMax\": g.east,\n",
    "            \"LatitudeMin\": g.south,\n",
    "            \"LatitudeMax\": g.north,\n",
    "            \"SortOrder\": \"A\",\n",
    "            \"SortBy\": \"1\",\n",
    "            \"viewState\": \"m\",\n",
    "            \"Longitude\": g.lng,\n",
    "            \"Latitude\": g.lat,\n",
    "            \"ZoomLevel\": \"8\",\n",
    "        }\n",
    "        while True:\n",
    "            try:\n",
    "                r = requests.post(url, data=payload)\n",
    "                break\n",
    "            except:\n",
    "                print(PriceMin, PriceMax)\n",
    "                time.sleep(1)\n",
    "                print('Connectin Fail...')\n",
    "                pass\n",
    "        if r.ok:\n",
    "            try:\n",
    "\n",
    "                results = r.json()['Results']\n",
    "                print('Found {} results!'.format(len(results)))\n",
    "                if len(results) == max_results:\n",
    "                    half = (PriceMax - PriceMin) / 2\n",
    "                    Prices.append([PriceMin, int(PriceMin + half)])\n",
    "                    Prices.append([int(PriceMin + half), PriceMax])\n",
    "                    print('Price split {}$-{}$'.format(PriceMin, PriceMax))\n",
    "            except Exception as e:\n",
    "                print(e)\n",
    "            for result in results:\n",
    "                data = {\n",
    "                    'lng': result['Property']['Address']['Longitude'],\n",
    "                    'lat': result['Property']['Address']['Latitude'],\n",
    "                    'address': result['Property']['Address']['AddressText'],\n",
    "                    'postal': result['PostalCode'],\n",
    "                    'property_type': result['Property']['Type'],\n",
    "                    'price': result['Property']['Price'],\n",
    "                    'mls': result['MlsNumber'],\n",
    "                    'bathrooms': result['Building'].get('BathroomTotal', 0),\n",
    "                    'bedrooms': result['Building'].get('Bedrooms', 0),\n",
    "                    'PriceMin': payload['PriceMin'],\n",
    "                    'PriceMax': payload['PriceMax'],\n",
    "                    'PropertySearch': PropertySearchType[PropertySearch],\n",
    "                    'LandSize': result['Land'].get('SizeTotal'),\n",
    "                    'url': 'https://www.realtor.ca' + result['RelativeDetailsURL']\n",
    "                }\n",
    "                container[result['MlsNumber']] = data\n",
    "\n",
    "with open('mls.txt', 'wb') as f:\n",
    "    writer = csv.DictWriter(f, fieldnames=next(iter(container.values())), dialect='excel')\n",
    "    writer.writeheader()\n",
    "    for row in container.values():\n",
    "        writer.writerow(row)"
   ]
  },
  {
   "cell_type": "code",
   "execution_count": null,
   "id": "af8af436-a9d2-4bd1-bb0c-7f12853f4836",
   "metadata": {},
   "outputs": [],
   "source": []
  }
 ],
 "metadata": {
  "kernelspec": {
   "display_name": "Python 3 (ipykernel)",
   "language": "python",
   "name": "python3"
  },
  "language_info": {
   "codemirror_mode": {
    "name": "ipython",
    "version": 3
   },
   "file_extension": ".py",
   "mimetype": "text/x-python",
   "name": "python",
   "nbconvert_exporter": "python",
   "pygments_lexer": "ipython3",
   "version": "3.9.12"
  }
 },
 "nbformat": 4,
 "nbformat_minor": 5
}
